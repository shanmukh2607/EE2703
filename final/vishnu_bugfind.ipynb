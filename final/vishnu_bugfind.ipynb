{
 "cells": [
  {
   "cell_type": "code",
   "execution_count": 84,
   "metadata": {},
   "outputs": [
    {
     "name": "stdout",
     "output_type": "stream",
     "text": [
      "5.607454042241918e-16 7.52394626945668e-20\n"
     ]
    },
    {
     "data": {
      "image/png": "[encoded data removed]",
      "text/plain": [
       "<Figure size 432x288 with 1 Axes>"
      ]
     },
     "metadata": {
      "needs_background": "light"
     },
     "output_type": "display_data"
    },
    {
     "data": {
      "image/png": "[encoded data removed]",
      "text/plain": [
       "<Figure size 432x288 with 1 Axes>"
      ]
     },
     "metadata": {
      "needs_background": "light"
     },
     "output_type": "display_data"
    }
   ],
   "source": [
    "import numpy as np\n",
    "import matplotlib.pyplot as plt\n",
    "\n",
    "x = np.linspace(-1,1,3)\n",
    "y = np.linspace(-1,1,3)\n",
    "z= np.linspace(1,1000,1000)\n",
    "X,Y,Z = np.meshgrid(x,y,z)\n",
    "\n",
    "#print(X)\n",
    "#print(Y)\n",
    "#print(Z)\n",
    "\n",
    "radius = 10\n",
    "N = 100\n",
    "theta = np.linspace(0,2*np.pi,N+1) \n",
    "theta = theta[:-1]\n",
    "ro = np.array([radius*np.cos(theta),radius*np.sin(theta)])\n",
    "ro = ro.T\n",
    "#print(ro.shape)\n",
    "\n",
    "#plt.plot(ro[:,0],ro[:,1],'ro')\n",
    "#plt.show()\n",
    "\n",
    "dl = (2*np.pi*radius/(N))*np.array([-np.sin(theta),np.cos(theta)])\n",
    "dl = dl.T\n",
    "#print(dl.shape)\n",
    "\n",
    "def calc(l):\n",
    "    R = np.sqrt((X-ro[l,0])**2 + (Y-ro[l,1])**2 + (Z)**2) \n",
    "    #print(R.shape)\n",
    "    coses = np.cos(theta)\n",
    "    dl_x =dl[l,0]\n",
    "    dl_y =dl[l,1]\n",
    "    A_1 = coses[l]*np.exp(-0.1*1j*R)*dl_x/R\n",
    "    A_2 = coses[l]*np.exp(-0.1*1j*R)*dl_y/R\n",
    "    return A_1,A_2\n",
    "\n",
    "#A_1 = np.empty((100,3,3,1000))\n",
    "#A_2 = np.empty((100,3,3,1000))\n",
    "A_x =0\n",
    "A_y = 0\n",
    "for l in range(N):\n",
    "    lolx = calc(l)[0] \n",
    "    loly = calc(l)[1]\n",
    "    A_x += lolx\n",
    "    A_y += loly\n",
    "\n",
    "B=(A_y[1,2,:]-A_x[2,1,:]-A_y[1,0,:]+A_x[0,1,:])/(4)\n",
    "B_vish=(A_y[1,0,:]-A_x[0,1,:]-A_y[-1,0,:]+A_x[0,-1,:])/(4)\n",
    "print(max(abs(B)),min(abs(B)))\n",
    "plt.loglog(z,np.abs(B),'g-')\n",
    "plt.figure()\n",
    "plt.loglog(z,np.abs(B_vish),'r-')\n",
    "plt.show()"
   ]
  },
  {
   "cell_type": "code",
   "execution_count": 86,
   "metadata": {},
   "outputs": [
    {
     "data": {
      "text/plain": [
       "-1.0"
      ]
     },
     "execution_count": 86,
     "metadata": {},
     "output_type": "execute_result"
    }
   ],
   "source": [
    "y[0]"
   ]
  },
  {
   "cell_type": "code",
   "execution_count": 68,
   "metadata": {},
   "outputs": [
    {
     "data": {
      "text/plain": [
       "array([[[-1., -1., -1., ..., -1., -1., -1.],\n",
       "        [ 0.,  0.,  0., ...,  0.,  0.,  0.],\n",
       "        [ 1.,  1.,  1., ...,  1.,  1.,  1.]],\n",
       "\n",
       "       [[-1., -1., -1., ..., -1., -1., -1.],\n",
       "        [ 0.,  0.,  0., ...,  0.,  0.,  0.],\n",
       "        [ 1.,  1.,  1., ...,  1.,  1.,  1.]],\n",
       "\n",
       "       [[-1., -1., -1., ..., -1., -1., -1.],\n",
       "        [ 0.,  0.,  0., ...,  0.,  0.,  0.],\n",
       "        [ 1.,  1.,  1., ...,  1.,  1.,  1.]]])"
      ]
     },
     "execution_count": 68,
     "metadata": {},
     "output_type": "execute_result"
    }
   ],
   "source": [
    "X"
   ]
  },
  {
   "cell_type": "code",
   "execution_count": 56,
   "metadata": {},
   "outputs": [
    {
     "data": {
      "text/plain": [
       "9.055385138137417"
      ]
     },
     "execution_count": 56,
     "metadata": {},
     "output_type": "execute_result"
    }
   ],
   "source": [
    "np.sqrt(81 + 1)"
   ]
  },
  {
   "cell_type": "code",
   "execution_count": 74,
   "metadata": {},
   "outputs": [],
   "source": [
    "l=0\n",
    "R = np.sqrt((X-ro[l,0])**2 + (Y-ro[l,1])**2 + (Z)**2) "
   ]
  },
  {
   "cell_type": "code",
   "execution_count": 75,
   "metadata": {},
   "outputs": [
    {
     "data": {
      "text/plain": [
       "array([[11.09053651, 10.09950494,  9.11043358],\n",
       "       [11.04536102, 10.04987562,  9.05538514],\n",
       "       [11.09053651, 10.09950494,  9.11043358]])"
      ]
     },
     "execution_count": 75,
     "metadata": {},
     "output_type": "execute_result"
    }
   ],
   "source": [
    "R[:,:,0]"
   ]
  },
  {
   "cell_type": "code",
   "execution_count": null,
   "metadata": {},
   "outputs": [],
   "source": []
  }
 ],
 "metadata": {
  "kernelspec": {
   "display_name": "Python 3",
   "language": "python",
   "name": "python3"
  },
  "language_info": {
   "codemirror_mode": {
    "name": "ipython",
    "version": 3
   },
   "file_extension": ".py",
   "mimetype": "text/x-python",
   "name": "python",
   "nbconvert_exporter": "python",
   "pygments_lexer": "ipython3",
   "version": "3.8.5"
  }
 },
 "nbformat": 4,
 "nbformat_minor": 2
}
