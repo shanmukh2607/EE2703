{
 "cells": [
  {
   "cell_type": "code",
   "execution_count": 1,
   "metadata": {},
   "outputs": [],
   "source": [
    "import sys\n",
    "filename = sys.argv[1]"
   ]
  },
  {
   "cell_type": "code",
   "execution_count": 95,
   "metadata": {},
   "outputs": [],
   "source": [
    "try:\n",
    "    file_p = open('sample/ckt2.netlist','r')\n",
    "except Exception:\n",
    "    print('Incorrect file name')\n"
   ]
  },
  {
   "cell_type": "code",
   "execution_count": 96,
   "metadata": {},
   "outputs": [],
   "source": [
    "input_lines = file_p.readlines()\n",
    "file_p.close()"
   ]
  },
  {
   "cell_type": "code",
   "execution_count": 97,
   "metadata": {},
   "outputs": [
    {
     "data": {
      "text/plain": [
       "['R1 1 GND 1e3\\n',\n",
       " 'R2 1 2 2e3\\n',\n",
       " 'R3 2 3 4e3\\n',\n",
       " 'V1 3 GND 2\\n',\n",
       " 'V2 2 4 5\\n',\n",
       " 'R4 4 5 5e3\\n',\n",
       " 'I1 5 GND 1\\n',\n",
       " 'R6 4 6 8e3\\n',\n",
       " 'I2 GND 6 10\\n',\n",
       " '# This is a malformed input file!']"
      ]
     },
     "execution_count": 97,
     "metadata": {},
     "output_type": "execute_result"
    }
   ],
   "source": [
    "input_lines"
   ]
  },
  {
   "cell_type": "code",
   "execution_count": 98,
   "metadata": {},
   "outputs": [
    {
     "name": "stdout",
     "output_type": "stream",
     "text": [
      "Invalid netlist file\n"
     ]
    },
    {
     "ename": "IndexError",
     "evalue": "list index out of range",
     "output_type": "error",
     "traceback": [
      "\u001b[0;31m---------------------------------------------------------------------------\u001b[0m",
      "\u001b[0;31mIndexError\u001b[0m                                Traceback (most recent call last)",
      "\u001b[0;32m<ipython-input-98-d18c52ae8403>\u001b[0m in \u001b[0;36m<module>\u001b[0;34m\u001b[0m\n\u001b[1;32m     15\u001b[0m     \u001b[0mprint\u001b[0m\u001b[0;34m(\u001b[0m\u001b[0;34m'Invalid netlist file'\u001b[0m\u001b[0;34m)\u001b[0m\u001b[0;34m\u001b[0m\u001b[0;34m\u001b[0m\u001b[0m\n\u001b[1;32m     16\u001b[0m     \u001b[0mexit\u001b[0m\u001b[0;34m(\u001b[0m\u001b[0;34m)\u001b[0m\u001b[0;34m\u001b[0m\u001b[0;34m\u001b[0m\u001b[0m\n\u001b[0;32m---> 17\u001b[0;31m \u001b[0mcircuit_index\u001b[0m \u001b[0;34m=\u001b[0m \u001b[0mcircuit_index\u001b[0m\u001b[0;34m[\u001b[0m\u001b[0;36m0\u001b[0m\u001b[0;34m]\u001b[0m\u001b[0;34m\u001b[0m\u001b[0;34m\u001b[0m\u001b[0m\n\u001b[0m\u001b[1;32m     18\u001b[0m \u001b[0mend_index\u001b[0m \u001b[0;34m=\u001b[0m \u001b[0mend_index\u001b[0m\u001b[0;34m[\u001b[0m\u001b[0;36m0\u001b[0m\u001b[0;34m]\u001b[0m\u001b[0;34m\u001b[0m\u001b[0;34m\u001b[0m\u001b[0m\n\u001b[1;32m     19\u001b[0m \u001b[0mckt_lines\u001b[0m \u001b[0;34m=\u001b[0m \u001b[0minput_lines\u001b[0m\u001b[0;34m[\u001b[0m\u001b[0mcircuit_index\u001b[0m\u001b[0;34m+\u001b[0m\u001b[0;36m1\u001b[0m\u001b[0;34m:\u001b[0m\u001b[0mend_index\u001b[0m\u001b[0;34m]\u001b[0m\u001b[0;34m\u001b[0m\u001b[0;34m\u001b[0m\u001b[0m\n",
      "\u001b[0;31mIndexError\u001b[0m: list index out of range"
     ]
    }
   ],
   "source": [
    "input_lines = [input_lines[i][:cmt_loc] for i,cmt_loc in range()\n",
    "\n",
    "circuit_index =[]\n",
    "end_index =[]\n",
    "for item in input_lines:\n",
    "    if '.circuit' in item:\n",
    "        circuit_index.append(input_lines.index(item))\n",
    "    if '.end' in item:\n",
    "        end_index.append(input_lines.index(item))\n",
    "\n",
    "if len(circuit_index)>1:\n",
    "    print('Multiple .circuit instructions in the file')\n",
    "    exit()\n",
    "if len(end_index)>1:\n",
    "    print('Multiple .end instructions in the file')\n",
    "if len(circuit_index) ==0 or len(end_index)==0:\n",
    "    print('Invalid netlist file')\n",
    "    exit()\n",
    "circuit_index = circuit_index[0]\n",
    "end_index = end_index[0]\n",
    "ckt_lines = input_lines[circuit_index+1:end_index]\n",
    "ckt_lines"
   ]
  },
  {
   "cell_type": "code",
   "execution_count": 94,
   "metadata": {},
   "outputs": [
    {
     "name": "stdout",
     "output_type": "stream",
     "text": [
      "5 in1 GND V1\n",
      "10e3 in1 GND R5\n",
      "8e3 in3 2 R4\n",
      "20e3 GND 2 R3\n",
      "4e3 2 1 R2\n",
      "1e3 1 GND R1\n"
     ]
    }
   ],
   "source": [
    "for i in range(len(ckt_lines)-1,-1,-1):\n",
    "    ckt_lines[i] = ckt_lines[i].strip('\\n')\n",
    "    cmt_loc = ckt_lines[i].find('#')\n",
    "    if cmt_loc >=0:\n",
    "        ckt_lines[i] = ckt_lines[i][:cmt_loc]\n",
    "    ckt_lines[i] = ckt_lines[i].strip()\n",
    "    words = ckt_lines[i].split(' ')\n",
    "    ckt_lines[i] = ' '.join(reversed(words))\n",
    "    print(ckt_lines[i])"
   ]
  },
  {
   "cell_type": "code",
   "execution_count": 56,
   "metadata": {},
   "outputs": [
    {
     "data": {
      "text/plain": [
       "[3]"
      ]
     },
     "execution_count": 56,
     "metadata": {},
     "output_type": "execute_result"
    }
   ],
   "source": [
    "list(range(3,2,-1))"
   ]
  },
  {
   "cell_type": "code",
   "execution_count": 38,
   "metadata": {},
   "outputs": [],
   "source": []
  },
  {
   "cell_type": "code",
   "execution_count": 40,
   "metadata": {},
   "outputs": [
    {
     "data": {
      "text/plain": [
       "38"
      ]
     },
     "execution_count": 40,
     "metadata": {},
     "output_type": "execute_result"
    }
   ],
   "source": []
  },
  {
   "cell_type": "code",
   "execution_count": null,
   "metadata": {},
   "outputs": [],
   "source": []
  },
  {
   "cell_type": "code",
   "execution_count": null,
   "metadata": {},
   "outputs": [],
   "source": []
  }
 ],
 "metadata": {
  "kernelspec": {
   "display_name": "Python 3",
   "language": "python",
   "name": "python3"
  },
  "language_info": {
   "codemirror_mode": {
    "name": "ipython",
    "version": 3
   },
   "file_extension": ".py",
   "mimetype": "text/x-python",
   "name": "python",
   "nbconvert_exporter": "python",
   "pygments_lexer": "ipython3",
   "version": "3.8.5"
  }
 },
 "nbformat": 4,
 "nbformat_minor": 2
}
