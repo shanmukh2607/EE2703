{
 "cells": [
  {
   "cell_type": "code",
   "execution_count": 374,
   "metadata": {},
   "outputs": [],
   "source": [
    "import numpy as np"
   ]
  },
  {
   "cell_type": "markdown",
   "metadata": {},
   "source": [
    "# Final Draft"
   ]
  },
  {
   "cell_type": "code",
   "execution_count": 451,
   "metadata": {},
   "outputs": [
    {
     "name": "stdout",
     "output_type": "stream",
     "text": [
      "Voltage of node GND : 0V\n",
      "Votlage of node n1 : 10.0\n",
      "Votlage of node n2 : 5.000000000000001\n",
      "Votlage of node n3 : 0.8333333333333337\n",
      "Current through V1 : 2.4999999999999996\n"
     ]
    }
   ],
   "source": [
    "# File IO\n",
    "try:\n",
    "    file_p = open('sample/ckt1.netlist','r')\n",
    "except IOError:\n",
    "    print('Invalid File')\n",
    "    exit()\n",
    "input_lines = file_p.readlines()\t#readlines extracts all lines in the file into a list\n",
    "file_p.close()#after reading lines close file_p\n",
    "\n",
    "# Main code starts here (Week1 portion)\n",
    "\n",
    "for i in range(len(input_lines)):\n",
    "    cmt_loc = input_lines[i].find('#')\t# index of '#' is stored in cmt_loc and is negative if not found\n",
    "    if cmt_loc >=0:\n",
    "        input_lines[i] = input_lines[i][:cmt_loc]\n",
    "circuit_index =[]\n",
    "end_index =[]\n",
    "ac_info = None\n",
    "for item in input_lines:\n",
    "    if '.ac' == item[0:3]:\n",
    "        ac_info  = item.split()\n",
    "    if '.circuit' == item[0:8]:\t# .circuit must be first 8 chars of a line\n",
    "        circuit_index.append(input_lines.index(item))\n",
    "    if '.end' == item[0:4]:\n",
    "        end_index.append(input_lines.index(item))\n",
    "if len(circuit_index)>1:\t#more than one uncommented '.circuit' in the file\n",
    "    print('Multiple .circuit instructions in the file')\n",
    "    exit()\n",
    "if len(end_index)>1:\t\t#multiple uncommented '.end' in the file\n",
    "    print('Multiple .end instructions in the file')\n",
    "    exit()\n",
    "if len(circuit_index) ==0 or len(end_index)==0:\t\t#no '.circuit' or '.end' in the file\n",
    "    print('Invalid netlist file')\n",
    "    exit()\n",
    "if circuit_index[0] > end_index[0]:\n",
    "    print('Error in netlist file: .end should come after .circuit')\n",
    "    exit()\n",
    "ckt_lines = input_lines[circuit_index[0]+1:end_index[0]]\n",
    "\n",
    "for i in range(len(ckt_lines)-1,-1,-1):\n",
    "    ckt_lines[i] = ' '.join((ckt_lines[i].strip('\\n ')).split())\n",
    "    if ckt_lines[i] == '':\n",
    "        ckt_lines.pop(i)\n",
    "\n",
    "# Defining a class\n",
    "class Element:\n",
    "    controller = None\n",
    "    type = None\n",
    "    def __init__(self, line):\n",
    "        self.name = line[0]\n",
    "        self.from_node = line[1]\n",
    "        self.to_node = line[2]\n",
    "        self.value = float(line[3])\n",
    "\n",
    "class ACElement:\n",
    "    def __init__(self,line):\n",
    "        self.name = line[0]\n",
    "        self.from_node = line[1]\n",
    "        self.to_node = line[2]\n",
    "        self.type = line[3]\n",
    "        self.value = [float(i) for i in line[4:]]\n",
    "\n",
    "#Defining Functions\n",
    "        \n",
    "def M_builder(element):\n",
    "    a = name2number[element.from_node]\n",
    "    b = name2number[element.to_node]\n",
    "    if element.name[0] == 'R':\n",
    "        M[a,a] += 1/element.value\n",
    "        M[b,b] += 1/element.value\n",
    "        M[a,b] += -1/element.value\n",
    "        M[b,a] += -1/element.value\n",
    "    if element.name[0] == 'V':\n",
    "        c = int(element.name[1])\n",
    "        M[a,node_size+c-1] += 1\n",
    "        M[b,node_size+c-1] += -1\n",
    "        M[node_size+c-1,a] += 1\n",
    "        M[node_size+c-1,b] += -1\n",
    "    if element.name[0] == 'C':\n",
    "        M[a,a] += 1j*w*element.value\n",
    "        M[b,b] += 1j*w*element.value\n",
    "        M[a,b] += -1j*w*element.value\n",
    "        M[b,a] += -1j*w*element.value\n",
    "    if element.name[0] == 'L':\n",
    "        if w!= 0:\n",
    "            M[a,a] += 1/(1j*w*element.value)\n",
    "            M[b,b] += 1/(1j*w*element.value)\n",
    "            M[a,b] += -1/(1j*w*element.value)\n",
    "            M[b,a] += -1/(1j*w*element.value)\n",
    "        else :\n",
    "            zero = 1e-10\n",
    "            M[a,a] += 1/(1j*zero*element.value)\n",
    "            M[b,b] += 1/(1j*zero*element.value)\n",
    "            M[a,b] += -1/(1j*zero*element.value)\n",
    "            M[b,a] += -1/(1j*zero*element.value)\n",
    "\n",
    "def b_builder(element):\n",
    "    fn = name2number[element.from_node]\n",
    "    tn = name2number[element.to_node]\n",
    "    \n",
    "    if element.name[0] == 'V':\n",
    "        x = int(element.name[1])\n",
    "        if element.type != 'ac':\n",
    "            b[node_size+x-1,0] += element.value\n",
    "    \n",
    "        else:\n",
    "            b[node_size+x-1,0] += 0.5*element.value[0]*np.exp(1j*w*element.value[1])\n",
    "            \n",
    "    if element.name[0] == 'I':\n",
    "        if element.type != 'ac' :\n",
    "            b[fn,0] += element.value\n",
    "            b[tn,0] += -element.value\n",
    "            \n",
    "        else :\n",
    "            b[fn,0] += 0.5*element.value[0]*np.exp(1j*w*element.value[1])\n",
    "            b[tn,0] += -0.5*element.value[0]*np.exp(1j*w*element.value[1])\n",
    "\n",
    "\n",
    "#Parsing the code and collecting required attributes\n",
    "element_list = []\n",
    "node_list = []\n",
    "vs_count = 0\n",
    "ac_count = 0\n",
    "for item in ckt_lines:\n",
    "    item_list = item.split()\n",
    "    \n",
    "    if item_list[0][0] != 'V' and item_list[0][0]!='I':\n",
    "        element_list.append(Element(item_list))\n",
    "        \n",
    "    if item_list[0][0] == 'V':\n",
    "        if ac_info!= None:\n",
    "            element_list.append(ACElement(item_list))\n",
    "            if ACElement(item_list).type == 'ac':\n",
    "                ac_count +=1\n",
    "        else :\n",
    "            element_list.append(Element(item_list))\n",
    "        vs_count+=1\n",
    "        \n",
    "    if item_list[0][0] == 'I':\n",
    "        if ac_info!= None:\n",
    "            element_list.append(ACElement(item_list))\n",
    "            if ACElement(item_list).type == 'ac':\n",
    "                ac_count +=1\n",
    "        else :\n",
    "            element_list.append(Element(item_list))\n",
    "            \n",
    "    node_list.extend(item_list[1:3])\n",
    "    \n",
    "node_size = len(set(node_list))\n",
    "\n",
    "# Dictionary to map node names to node numbers\n",
    "node_uniquelist = list(set(node_list))\n",
    "node_uniquelist.remove('GND')\n",
    "node_uniquelist.sort()\n",
    "name2number = {'GND': 0}\n",
    "for i in range(len(node_uniquelist)):\n",
    "    name2number[node_uniquelist[i]] = i+1\n",
    "name2number\n",
    "\n",
    "# Creating np zero arrays for M and b\n",
    "\n",
    "M = np.zeros((node_size+vs_count,node_size+vs_count),dtype = complex)\n",
    "b = np.zeros((node_size+vs_count,1),dtype = complex)    \n",
    "\n",
    "# Ac vs Dc case handling\n",
    "\n",
    "if ac_info == None :\n",
    "    w = 0\n",
    "\n",
    "if ac_count ==0 and ac_info!= None:\n",
    "    w = 0\n",
    "    print(\"No AC sources found in the .netlist file, frequency overwritten to 0\")\n",
    "\n",
    "if ac_count!=0 :\n",
    "    w = 2*np.pi*float(ac_info[-1])\n",
    "    \n",
    "# Setting M and B by iterating through each circuit element\n",
    "\n",
    "for obj in element_list:\n",
    "    M_builder(obj)\n",
    "    b_builder(obj)\n",
    "    \n",
    "# Solving\n",
    "\n",
    "x = np.linalg.solve(M[1:,1:],b[1:,])\n",
    "\n",
    "# Output handling\n",
    "\n",
    "if w==0 :\n",
    "    output = abs(x.ravel())\n",
    "    for name,number in name2number.items() :\n",
    "        if number ==0:\n",
    "            print('Voltage of node GND : 0V')\n",
    "        if number < node_size and number >0:\n",
    "            print('Votlage of node',name,':',output[number-1])\n",
    "    for i in range(1, x.size+2-node_size) :\n",
    "        print(\"Current through V%d\" %i,':',output[i+node_size-2])\n",
    "\n",
    "if w!= 0:\n",
    "    output = np.hstack((abs(x),np.angle(x)))\n",
    "\n",
    "    for name,number in name2number.items() :\n",
    "        if number ==0:\n",
    "            print('Voltage of node GND is 0V')\n",
    "        if number < node_size and number >0:\n",
    "            print('Votlage of node',name,'is \\nmagnitude:',output[number-1][0],'V\\tphase:',output[number-1][1])\n",
    "    for i in range(1, x.size+2-node_size) :\n",
    "        print(\"Current through V%d\" %i,'is \\nmagnitude:',output[i+node_size-2][0],'A\\tphase:',output[i+node_size-2][1])"
   ]
  },
  {
   "cell_type": "markdown",
   "metadata": {},
   "source": [
    "# Workspace"
   ]
  },
  {
   "cell_type": "code",
   "execution_count": 432,
   "metadata": {},
   "outputs": [],
   "source": [
    "class Element:\n",
    "    controller = None\n",
    "    type = None\n",
    "    def __init__(self, line):\n",
    "        self.name = line[0]\n",
    "        self.from_node = line[1]\n",
    "        self.to_node = line[2]\n",
    "        self.value = float(line[3])\n",
    "\n",
    "class ACElement:\n",
    "    def __init__(self,line):\n",
    "        self.name = line[0]\n",
    "        self.from_node = line[1]\n",
    "        self.to_node = line[2]\n",
    "        self.type = line[3]\n",
    "        self.value = [float(i) for i in line[4:]]\n",
    "        #if line[3] == 'dc':\n",
    "            #self.value = float(line[4])\n",
    "        #if line[4] == 'ac':\n",
    "            #self.value = float(line[4])*cm.exp(1j*float(line[5]))        "
   ]
  },
  {
   "cell_type": "code",
   "execution_count": 438,
   "metadata": {},
   "outputs": [],
   "source": [
    "def M_builder(element):\n",
    "    a = name2number[element.from_node]\n",
    "    b = name2number[element.to_node]\n",
    "    if element.name[0] == 'R':\n",
    "        M[a,a] += 1/element.value\n",
    "        M[b,b] += 1/element.value\n",
    "        M[a,b] += -1/element.value\n",
    "        M[b,a] += -1/element.value\n",
    "    if element.name[0] == 'V':\n",
    "        c = int(element.name[1])\n",
    "        M[a,node_size+c-1] += 1\n",
    "        M[b,node_size+c-1] += -1\n",
    "        M[node_size+c-1,a] += 1\n",
    "        M[node_size+c-1,b] += -1\n",
    "    if element.name[0] == 'C':\n",
    "        M[a,a] += 1j*w*element.value\n",
    "        M[b,b] += 1j*w*element.value\n",
    "        M[a,b] += -1j*w*element.value\n",
    "        M[b,a] += -1j*w*element.value\n",
    "    if element.name[0] == 'L':\n",
    "        if w!= 0:\n",
    "            M[a,a] += 1/(1j*w*element.value)\n",
    "            M[b,b] += 1/(1j*w*element.value)\n",
    "            M[a,b] += -1/(1j*w*element.value)\n",
    "            M[b,a] += -1/(1j*w*element.value)\n",
    "        else :\n",
    "            zero = 1e-10\n",
    "            M[a,a] += 1/(1j*zero*element.value)\n",
    "            M[b,b] += 1/(1j*zero*element.value)\n",
    "            M[a,b] += -1/(1j*zero*element.value)\n",
    "            M[b,a] += -1/(1j*zero*element.value)"
   ]
  },
  {
   "cell_type": "code",
   "execution_count": 439,
   "metadata": {},
   "outputs": [],
   "source": [
    "def b_builder(element):\n",
    "    fn = name2number[element.from_node]\n",
    "    tn = name2number[element.to_node]\n",
    "    \n",
    "    if element.name[0] == 'V':\n",
    "        x = int(element.name[1])\n",
    "        if element.type != 'ac':\n",
    "            b[node_size+x-1,0] += element.value\n",
    "    \n",
    "        else:\n",
    "            b[node_size+x-1,0] += 0.5*element.value[0]*np.exp(1j*w*element.value[1])\n",
    "            \n",
    "    if element.name[0] == 'I':\n",
    "        if element.type != 'ac' :\n",
    "            b[fn,0] += element.value\n",
    "            b[tn,0] += -element.value\n",
    "            \n",
    "        else :\n",
    "            b[fn,0] += 0.5*element.value[0]*np.exp(1j*w*element.value[1])\n",
    "            b[tn,0] += -0.5*element.value[0]*np.exp(1j*w*element.value[1])"
   ]
  },
  {
   "cell_type": "code",
   "execution_count": 430,
   "metadata": {},
   "outputs": [],
   "source": [
    "\n",
    "try:\n",
    "    file_p = open('sample/ckt1.netlist','r')\n",
    "except IOError:\n",
    "    print('Invalid File')\n",
    "    exit()\t\n",
    "input_lines = file_p.readlines()\t#readlines extracts all lines in the file into a list\n",
    "file_p.close()\t\t\t\t#after reading lines close file_p\n",
    "\n",
    "for i in range(len(input_lines)):\n",
    "    cmt_loc = input_lines[i].find('#')\t# index of '#' is stored in cmt_loc and is negative if not found\n",
    "    if cmt_loc >=0:\n",
    "        input_lines[i] = input_lines[i][:cmt_loc]\n",
    "circuit_index =[]\n",
    "end_index =[]\n",
    "ac_info = None\n",
    "for item in input_lines:\n",
    "    if '.ac' == item[0:3]:\n",
    "        ac_info  = item.split()\n",
    "    if '.circuit' == item[0:8]:\t# .circuit must be first 8 chars of a line\n",
    "        circuit_index.append(input_lines.index(item))\n",
    "    if '.end' == item[0:4]:\n",
    "        end_index.append(input_lines.index(item))\n",
    "if len(circuit_index)>1:\t#more than one uncommented '.circuit' in the file\n",
    "    print('Multiple .circuit instructions in the file')\n",
    "    exit()\n",
    "if len(end_index)>1:\t\t#multiple uncommented '.end' in the file\n",
    "    print('Multiple .end instructions in the file')\n",
    "    exit()\n",
    "if len(circuit_index) ==0 or len(end_index)==0:\t\t#no '.circuit' or '.end' in the file\n",
    "    print('Invalid netlist file')\n",
    "    exit()\n",
    "if circuit_index[0] > end_index[0]:\n",
    "    print('Error in netlist file: .end should come after .circuit')\n",
    "    exit()\n",
    "ckt_lines = input_lines[circuit_index[0]+1:end_index[0]]\n",
    "\n",
    "for i in range(len(ckt_lines)-1,-1,-1):\n",
    "    ckt_lines[i] = ' '.join((ckt_lines[i].strip('\\n ')).split())\n",
    "    if ckt_lines[i] == '':\n",
    "        ckt_lines.pop(i)\n"
   ]
  },
  {
   "cell_type": "code",
   "execution_count": 431,
   "metadata": {},
   "outputs": [
    {
     "data": {
      "text/plain": [
       "['V1 n1 GND 10', 'R1 n1 n2 2', 'R2 n2 GND 3', 'R3 n2 n3 5', 'R4 n3 GND 1']"
      ]
     },
     "execution_count": 431,
     "metadata": {},
     "output_type": "execute_result"
    }
   ],
   "source": [
    "ckt_lines"
   ]
  },
  {
   "cell_type": "code",
   "execution_count": 433,
   "metadata": {},
   "outputs": [],
   "source": [
    "element_list = []\n",
    "node_list = []\n",
    "vs_count = 0\n",
    "ac_count = 0\n",
    "for item in ckt_lines:\n",
    "    item_list = item.split()\n",
    "    \n",
    "    if item_list[0][0] != 'V' and item_list[0][0]!='I':\n",
    "        element_list.append(Element(item_list))\n",
    "        \n",
    "    if item_list[0][0] == 'V':\n",
    "        if ac_info!= None:\n",
    "            element_list.append(ACElement(item_list))\n",
    "            if ACElement(item_list).type == 'ac':\n",
    "                ac_count +=1\n",
    "        else :\n",
    "            element_list.append(Element(item_list))\n",
    "        vs_count+=1\n",
    "        \n",
    "    if item_list[0][0] == 'I':\n",
    "        if ac_info!= None:\n",
    "            element_list.append(ACElement(item_list))\n",
    "            if ACElement(item_list).type == 'ac':\n",
    "                ac_count +=1\n",
    "        else :\n",
    "            element_list.append(Element(item_list))\n",
    "            \n",
    "    node_list.extend(item_list[1:3])\n",
    "    \n",
    "node_size = len(set(node_list))"
   ]
  },
  {
   "cell_type": "code",
   "execution_count": 434,
   "metadata": {},
   "outputs": [
    {
     "data": {
      "text/plain": [
       "{'GND': 0, 'n1': 1, 'n2': 2, 'n3': 3}"
      ]
     },
     "execution_count": 434,
     "metadata": {},
     "output_type": "execute_result"
    }
   ],
   "source": [
    "node_uniquelist = list(set(node_list))\n",
    "node_uniquelist.remove('GND')\n",
    "node_uniquelist.sort()\n",
    "name2number = {'GND': 0}\n",
    "for i in range(len(node_uniquelist)):\n",
    "    name2number[node_uniquelist[i]] = i+1\n",
    "name2number"
   ]
  },
  {
   "cell_type": "code",
   "execution_count": 435,
   "metadata": {},
   "outputs": [
    {
     "name": "stdout",
     "output_type": "stream",
     "text": [
      "4 1 0\n"
     ]
    }
   ],
   "source": [
    "print(node_size,vs_count,ac_count)"
   ]
  },
  {
   "cell_type": "code",
   "execution_count": 436,
   "metadata": {},
   "outputs": [],
   "source": [
    "M = np.zeros((node_size+vs_count,node_size+vs_count),dtype = complex)\n",
    "b = np.zeros((node_size+vs_count,1),dtype = complex)    \n"
   ]
  },
  {
   "cell_type": "code",
   "execution_count": 437,
   "metadata": {},
   "outputs": [],
   "source": [
    "if ac_info == None :\n",
    "    w = 0\n",
    "\n",
    "if ac_count ==0 and ac_info!= None:\n",
    "    w = 0\n",
    "    print(\"No AC sources found in the .netlist file, frequency overwritten to 0\")\n",
    "\n",
    "if ac_count!=0 :\n",
    "    w = 2*np.pi*float(ac_info[-1])"
   ]
  },
  {
   "cell_type": "code",
   "execution_count": 440,
   "metadata": {},
   "outputs": [],
   "source": [
    "for obj in element_list:\n",
    "    M_builder(obj)\n",
    "    b_builder(obj)"
   ]
  },
  {
   "cell_type": "code",
   "execution_count": 441,
   "metadata": {},
   "outputs": [
    {
     "data": {
      "text/plain": [
       "array([[10.        +0.j],\n",
       "       [ 5.        +0.j],\n",
       "       [ 0.83333333+0.j],\n",
       "       [-2.5       +0.j]])"
      ]
     },
     "execution_count": 441,
     "metadata": {},
     "output_type": "execute_result"
    }
   ],
   "source": [
    "x = np.linalg.solve(M[1:,1:],b[1:,])\n",
    "x"
   ]
  },
  {
   "cell_type": "code",
   "execution_count": 442,
   "metadata": {},
   "outputs": [
    {
     "name": "stdout",
     "output_type": "stream",
     "text": [
      "Voltage of node GND : 0V\n",
      "Votlage of node n1 : 10.0\n",
      "Votlage of node n2 : 5.000000000000001\n",
      "Votlage of node n3 : 0.8333333333333337\n",
      "Current through V1 : 2.4999999999999996\n"
     ]
    }
   ],
   "source": [
    "if w==0 :\n",
    "    output = abs(x.ravel())\n",
    "    for name,number in name2number.items() :\n",
    "        if number ==0:\n",
    "            print('Voltage of node GND : 0V')\n",
    "        if number < node_size and number >0:\n",
    "            print('Votlage of node',name,':',output[number-1])\n",
    "    for i in range(1, x.size+2-node_size) :\n",
    "        print(\"Current through V%d\" %i,':',output[i+node_size-2])\n",
    "\n",
    "if w!= 0:\n",
    "    output = np.hstack((abs(x),np.angle(x)))\n",
    "\n",
    "    for name,number in name2number.items() :\n",
    "        if number ==0:\n",
    "            print('Voltage of node GND is 0V')\n",
    "        if number < node_size and number >0:\n",
    "            print('Votlage of node',name,'is \\nmagnitude:',output[number-1][0],'V\\tphase:',output[number-1][1])\n",
    "    for i in range(1, x.size+2-node_size) :\n",
    "        print(\"Current through V%d\" %i,'is \\nmagnitude:',output[i+node_size-2][0],'A\\tphase:',output[i+node_size-2][1])"
   ]
  },
  {
   "cell_type": "code",
   "execution_count": 384,
   "metadata": {},
   "outputs": [
    {
     "name": "stdout",
     "output_type": "stream",
     "text": [
      "6283.185307179586 2\n"
     ]
    }
   ],
   "source": [
    "print(w,node_size)"
   ]
  },
  {
   "cell_type": "code",
   "execution_count": 444,
   "metadata": {},
   "outputs": [
    {
     "data": {
      "text/plain": [
       "array([[1.33333333, 0.        , 0.33333333, 1.        , 1.        ],\n",
       "       [0.        , 0.5       , 0.5       , 0.        , 1.        ],\n",
       "       [0.33333333, 0.5       , 1.03333333, 0.2       , 0.        ],\n",
       "       [1.        , 0.        , 0.2       , 1.2       , 0.        ],\n",
       "       [1.        , 1.        , 0.        , 0.        , 0.        ]])"
      ]
     },
     "execution_count": 444,
     "metadata": {},
     "output_type": "execute_result"
    }
   ],
   "source": [
    "abs(M)"
   ]
  },
  {
   "cell_type": "code",
   "execution_count": 445,
   "metadata": {},
   "outputs": [
    {
     "data": {
      "text/plain": [
       "array([[0.5       , 0.5       , 0.        , 1.        ],\n",
       "       [0.5       , 1.03333333, 0.2       , 0.        ],\n",
       "       [0.        , 0.2       , 1.2       , 0.        ],\n",
       "       [1.        , 0.        , 0.        , 0.        ]])"
      ]
     },
     "execution_count": 445,
     "metadata": {},
     "output_type": "execute_result"
    }
   ],
   "source": [
    "abs(M[1:,1:])"
   ]
  },
  {
   "cell_type": "code",
   "execution_count": 366,
   "metadata": {},
   "outputs": [
    {
     "data": {
      "text/plain": [
       "array([[0.+0.j],\n",
       "       [5.+0.j]])"
      ]
     },
     "execution_count": 366,
     "metadata": {},
     "output_type": "execute_result"
    }
   ],
   "source": [
    "b[1:,]"
   ]
  },
  {
   "cell_type": "code",
   "execution_count": 367,
   "metadata": {},
   "outputs": [
    {
     "data": {
      "text/plain": [
       "array([[2.50000000e+00, 0.00000000e+00],\n",
       "       [5.96831037e-04, 1.57079633e+00]])"
      ]
     },
     "execution_count": 367,
     "metadata": {},
     "output_type": "execute_result"
    }
   ],
   "source": [
    "output"
   ]
  },
  {
   "cell_type": "code",
   "execution_count": 387,
   "metadata": {},
   "outputs": [
    {
     "data": {
      "text/plain": [
       "4000.0"
      ]
     },
     "execution_count": 387,
     "metadata": {},
     "output_type": "execute_result"
    }
   ],
   "source": [
    "4e3"
   ]
  },
  {
   "cell_type": "code",
   "execution_count": null,
   "metadata": {},
   "outputs": [],
   "source": []
  }
 ],
 "metadata": {
  "kernelspec": {
   "display_name": "Python 3",
   "language": "python",
   "name": "python3"
  },
  "language_info": {
   "codemirror_mode": {
    "name": "ipython",
    "version": 3
   },
   "file_extension": ".py",
   "mimetype": "text/x-python",
   "name": "python",
   "nbconvert_exporter": "python",
   "pygments_lexer": "ipython3",
   "version": "3.8.5"
  }
 },
 "nbformat": 4,
 "nbformat_minor": 2
}
